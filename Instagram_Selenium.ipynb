{
 "cells": [
  {
   "cell_type": "code",
   "execution_count": 9,
   "metadata": {
    "collapsed": false
   },
   "outputs": [],
   "source": [
    "from selenium import webdriver\n",
    "from selenium.webdriver.common.keys import Keys\n",
    "import time\n",
    "import urllib.request\n",
    "from selenium.webdriver.support import expected_conditions as EC\n",
    "from selenium.webdriver.support.ui import WebDriverWait\n",
    "from selenium.webdriver.common.by import By"
   ]
  },
  {
   "cell_type": "code",
   "execution_count": 10,
   "metadata": {
    "collapsed": false
   },
   "outputs": [],
   "source": [
    "class InstagramBot():\n",
    "    def __init__(self,username,password):\n",
    "        self.username=username\n",
    "        self.password=password\n",
    "        self.driver=webdriver.Chrome(r'C:\\Users\\OJASVA\\Desktop\\chromedriver')\n",
    "    def closeBrowser():\n",
    "        self.driver.close()\n",
    "    def login(self):\n",
    "        driver=self.driver\n",
    "        driver.get(\"https://www.instagram.com/accounts/login/?hl=en\")\n",
    "        time.sleep(8)\n",
    "        user=driver.find_element_by_xpath(\"//input[@name='username']\")\n",
    "        passw=driver.find_element_by_xpath(\"//input[@name='password']\")\n",
    "        user.send_keys(self.username)\n",
    "        passw.send_keys(self.password)\n",
    "        log_b=driver.find_element_by_xpath(\"//button[@type='submit']\")\n",
    "        log_b.click()\n",
    "        time.sleep(5)\n",
    "        turn_on=driver.find_element_by_xpath(\"//button[@tabindex='0']\")\n",
    "        turn_on.click()\n",
    "    def search(self):\n",
    "        name=input('Enter the name')\n",
    "        driver=self.driver\n",
    "        s=driver.find_element_by_xpath(\"//input[@placeholder='Search']\")\n",
    "        s.clear()\n",
    "        s.send_keys(name)\n",
    "        time.sleep(4)\n",
    "        s.send_keys(Keys.RETURN)\n",
    "        time.sleep(2)\n",
    "        s.send_keys(Keys.RETURN)\n",
    "    def extract(self):\n",
    "        driver=self.driver\n",
    "        links=driver.find_elements_by_xpath('//img[@class=\"FFVAD\"]')\n",
    "        img_links=[]\n",
    "        for link in links:\n",
    "            img_links.append(link.get_attribute('src'))\n",
    "        l=len(img_links)\n",
    "        print(\"Total number of images uploaded : \"+str(l))\n",
    "        x=int(input('Enter the no. of images you want to extract'))\n",
    "        l=9000\n",
    "        for j in range(0,x):\n",
    "            l=l+j\n",
    "            urllib.request.urlretrieve(str(img_links[j]),str(l)+\".jpg\")\n",
    "            time.sleep(2)\n",
    "    def like(self):\n",
    "        driver=self.driver\n",
    "        s=driver.find_element_by_xpath(\"//input[@placeholder='Search']\")\n",
    "        s.clear()\n",
    "        tag=input('Enter the tag')\n",
    "        tag=\"#\"+tag\n",
    "        s.send_keys(tag)\n",
    "        time.sleep(4)\n",
    "        s.send_keys(Keys.RETURN)\n",
    "        time.sleep(1)\n",
    "        s.send_keys(Keys.RETURN)\n",
    "        time.sleep(5)\n",
    "        wait = WebDriverWait(driver, 10)\n",
    "        xp1='//div[@class=\"_9AhH0\"]'\n",
    "        element = WebDriverWait(driver, 6000).until(EC.presence_of_element_located((By.XPATH, xp1)))\n",
    "        ##element = wait.until(EC.element_to_be_clickable(By.XPATH('//div[@class=\"_9AhH0\"]')))\n",
    "        element.click()\n",
    "        \n",
    "        #for i in range(0,10):\n",
    "         #   driver.execute_script(\"window.scrollTo(0, 10000);\")\n",
    "            #time.sleep(2)\n",
    "        \n",
    "        #links=driver.find_element_by_xpath('//img[@class=\"FFVAD\"]')\n",
    "        #time.sleep(5)\n",
    "        #print(len(links))\n",
    "        #for j in links:\n",
    "         #   j.click()\n",
    "            #time.sleep(2)\n",
    "            #driver.find_element_by_xpath('//button[@class=\"coreSpriteHeartOpen _0mzm- dCJp8\"]').click()\n",
    "        ######driver.find_element_by_xpath('//div[@class=\"_9AhH0\"]').click()\n",
    "        #links[0].click()\n",
    "        time.sleep(7)\n",
    "        xp4='//button[@class=\"oW_lN _0mzm- sqdOP yWX7d        \"]'\n",
    "        xp3='//a[@class=\"HBoOv coreSpriteRightPaginationArrow\"]'\n",
    "        xp2='//button[@class=\"dCJp8 afkep coreSpriteHeartOpen _0mzm-\"]'\n",
    "        element1=WebDriverWait(driver, 6000).until(EC.presence_of_element_located((By.XPATH, xp2)))\n",
    "        ##element1 = wait.until(EC.element_to_be_clickable(By.XPATH('//a[@class=\"HBoOv coreSpriteRightPaginationArrow\"]')))\n",
    "        element1.click();\n",
    "        #######driver.find_element_by_xpath('//button[@class=\"oW_lN _0mzm- sqdOP yWX7d        \"]').click()\n",
    "        #driver.find_element_by_xpath('//a[@class=\"HBoOv coreSpriteRightPaginationArrow\"]').click()\n",
    "        for i in range(0,250):\n",
    "            r_a=WebDriverWait(driver, 6000).until(EC.presence_of_element_located((By.XPATH, xp3)))\n",
    "            r_a.click()\n",
    "            ##wait.until(EC.element_to_be_clickable(By.XPATH('//a[@class=\"HBoOv coreSpriteRightPaginationArrow\"]'))).click()\n",
    "            ###driver.find_element_by_xpath('//a[@class=\"HBoOv coreSpriteRightPaginationArrow\"]').click()\n",
    "            ###time.sleep(7)\n",
    "            l_b=WebDriverWait(driver, 6000).until(EC.presence_of_element_located((By.XPATH, xp2)))\n",
    "            l_b.click()\n",
    "            ##wait.until(EC.element_to_be_clickable(By.XPATH('//button[@class=\"oW_lN _0mzm- sqdOP yWX7d        \"]'))).click()\n",
    "            ###time.sleep(2)\n",
    "        #for i in range(0,10):\n",
    "         #   driver.execute_script(\"window.scrollTo(0, 10000);\")\n",
    "            #time.sleep(2)\n",
    "        \n",
    "        #links=driver.find_element_by_xpath('//img[@class=\"FFVAD\"]')\n",
    "        #time.sleep(5)\n",
    "        #print(len(links))\n",
    "        #for j in links:\n",
    "         #   j.click()\n",
    "            #time.sleep(2)\n",
    "            #driver.find_element_by_xpath('//button[@class=\"coreSpriteHeartOpen _0mzm- dCJp8\"]').click()\n",
    "        \n",
    "        #####driver.find_element_by_xpath('//div[@class=\"_9AhH0\"]').click()\n",
    "        #links[0].click()\n",
    "        #####time.sleep(7)\n",
    "        #####driver.find_element_by_xpath('//button[@class=\"dCJp8 afkep coreSpriteHeartOpen _0mzm-\"]').click()\n",
    "        #driver.find_element_by_xpath('//a[@class=\"HBoOv coreSpriteRightPaginationArrow\"]').click()\n",
    "        #####for i in range(0,100):\n",
    "            #####driver.find_element_by_xpath('//a[@class=\"HBoOv coreSpriteRightPaginationArrow\"]').click()\n",
    "            #####time.sleep(4)\n",
    "            #####driver.find_element_by_xpath('//button[@class=\"dCJp8 afkep coreSpriteHeartOpen _0mzm-\"]').click()\n",
    "            #####time.sleep(1)\n",
    "            \n",
    "    def follow(self):\n",
    "        driver=self.driver\n",
    "        s=driver.find_element_by_xpath(\"//input[@placeholder='Search']\")\n",
    "        s.clear()\n",
    "        tag=input('Enter the tag')\n",
    "        tag=\"#\"+tag\n",
    "        s.send_keys(tag)\n",
    "        time.sleep(4)\n",
    "        s.send_keys(Keys.RETURN)\n",
    "        time.sleep(1)\n",
    "        s.send_keys(Keys.RETURN)\n",
    "        time.sleep(5)\n",
    "        wait = WebDriverWait(driver, 10)\n",
    "        xp1='//div[@class=\"_9AhH0\"]'\n",
    "        element = WebDriverWait(driver, 6000).until(EC.presence_of_element_located((By.XPATH, xp1)))\n",
    "        ##element = wait.until(EC.element_to_be_clickable(By.XPATH('//div[@class=\"_9AhH0\"]')))\n",
    "        element.click()\n",
    "        \n",
    "        #for i in range(0,10):\n",
    "         #   driver.execute_script(\"window.scrollTo(0, 10000);\")\n",
    "            #time.sleep(2)\n",
    "        \n",
    "        #links=driver.find_element_by_xpath('//img[@class=\"FFVAD\"]')\n",
    "        #time.sleep(5)\n",
    "        #print(len(links))\n",
    "        #for j in links:\n",
    "         #   j.click()\n",
    "            #time.sleep(2)\n",
    "            #driver.find_element_by_xpath('//button[@class=\"coreSpriteHeartOpen _0mzm- dCJp8\"]').click()\n",
    "        ######driver.find_element_by_xpath('//div[@class=\"_9AhH0\"]').click()\n",
    "        #links[0].click()\n",
    "        time.sleep(7)\n",
    "        xp4='//button[@class=\"oW_lN _0mzm- sqdOP yWX7d        \"]'\n",
    "        xp3='//a[@class=\"HBoOv coreSpriteRightPaginationArrow\"]'\n",
    "        xp2='//a[@class=\"HBoOv coreSpriteRightPaginationArrow\"]'\n",
    "        element1=WebDriverWait(driver, 6000).until(EC.presence_of_element_located((By.XPATH, xp2)))\n",
    "        ##element1 = wait.until(EC.element_to_be_clickable(By.XPATH('//a[@class=\"HBoOv coreSpriteRightPaginationArrow\"]')))\n",
    "        element1.click();\n",
    "        #######driver.find_element_by_xpath('//button[@class=\"oW_lN _0mzm- sqdOP yWX7d        \"]').click()\n",
    "        #driver.find_element_by_xpath('//a[@class=\"HBoOv coreSpriteRightPaginationArrow\"]').click()\n",
    "        for i in range(0,250):\n",
    "            r_a=WebDriverWait(driver, 6000).until(EC.presence_of_element_located((By.XPATH, xp3)))\n",
    "            r_a.click()\n",
    "            ##wait.until(EC.element_to_be_clickable(By.XPATH('//a[@class=\"HBoOv coreSpriteRightPaginationArrow\"]'))).click()\n",
    "            ###driver.find_element_by_xpath('//a[@class=\"HBoOv coreSpriteRightPaginationArrow\"]').click()\n",
    "            ###time.sleep(7)\n",
    "            f_b=WebDriverWait(driver, 6000).until(EC.presence_of_element_located((By.XPATH, xp4)))\n",
    "            f_b.click()\n",
    "            ##wait.until(EC.element_to_be_clickable(By.XPATH('//button[@class=\"oW_lN _0mzm- sqdOP yWX7d        \"]'))).click()\n",
    "            ###time.sleep(2)\n",
    "    def comment(self):\n",
    "        driver=self.driver\n",
    "        s=driver.find_element_by_xpath(\"//input[@placeholder='Search']\")\n",
    "        s.clear()\n",
    "        tag=input('Enter the tag')\n",
    "        tag=\"#\"+tag\n",
    "        s.send_keys(tag)\n",
    "        time.sleep(4)\n",
    "        s.send_keys(Keys.RETURN)\n",
    "        time.sleep(1)\n",
    "        s.send_keys(Keys.RETURN)\n",
    "        time.sleep(5)\n",
    "        wait = WebDriverWait(driver, 10)\n",
    "        xp1='//div[@class=\"_9AhH0\"]'\n",
    "        element = WebDriverWait(driver, 6000).until(EC.presence_of_element_located((By.XPATH, xp1)))\n",
    "        ##element = wait.until(EC.element_to_be_clickable(By.XPATH('//div[@class=\"_9AhH0\"]')))\n",
    "        element.click()\n",
    "        \n",
    "        #for i in range(0,10):\n",
    "         #   driver.execute_script(\"window.scrollTo(0, 10000);\")\n",
    "            #time.sleep(2)\n",
    "        \n",
    "        #links=driver.find_element_by_xpath('//img[@class=\"FFVAD\"]')\n",
    "        #time.sleep(5)\n",
    "        #print(len(links))\n",
    "        #for j in links:\n",
    "         #   j.click()\n",
    "            #time.sleep(2)\n",
    "            #driver.find_element_by_xpath('//button[@class=\"coreSpriteHeartOpen _0mzm- dCJp8\"]').click()\n",
    "        ######driver.find_element_by_xpath('//div[@class=\"_9AhH0\"]').click()\n",
    "        #links[0].click()\n",
    "        time.sleep(7)\n",
    "        xp4='//textarea[class=\"Ypffh\"]'\n",
    "        xp3='//a[@class=\"HBoOv coreSpriteRightPaginationArrow\"]'\n",
    "        message='Hi'\n",
    "        element1=WebDriverWait(driver, 6000).until(EC.presence_of_element_located((By.XPATH, xp4)))\n",
    "        ##element1 = wait.until(EC.element_to_be_clickable(By.XPATH('//a[@class=\"HBoOv coreSpriteRightPaginationArrow\"]')))\n",
    "        ##element1.click();\n",
    "        element1.send_keys(message)\n",
    "        element1.send_keys(Keys.RETURN)\n",
    "        #######driver.find_element_by_xpath('//button[@class=\"oW_lN _0mzm- sqdOP yWX7d        \"]').click()\n",
    "        #driver.find_element_by_xpath('//a[@class=\"HBoOv coreSpriteRightPaginationArrow\"]').click()\n",
    "        \n",
    "        for i in range(0,250):\n",
    "            r_a=WebDriverWait(driver, 6000).until(EC.presence_of_element_located((By.XPATH, xp3)))\n",
    "            r_a.click()\n",
    "            ##wait.until(EC.element_to_be_clickable(By.XPATH('//a[@class=\"HBoOv coreSpriteRightPaginationArrow\"]'))).click()\n",
    "            ###driver.find_element_by_xpath('//a[@class=\"HBoOv coreSpriteRightPaginationArrow\"]').click()\n",
    "            ###time.sleep(7)\n",
    "            f_b=WebDriverWait(driver, 6000).until(EC.presence_of_element_located((By.XPATH, xp4)))\n",
    "            f_b.send_keys(Message)\n",
    "            f_b.send_keys(Keys.RETURN)\n",
    "            time.sleep(2)"
   ]
  },
  {
   "cell_type": "code",
   "execution_count": 11,
   "metadata": {
    "collapsed": true
   },
   "outputs": [],
   "source": [
    "a=InstagramBot('username','password')"
   ]
  },
  {
   "cell_type": "code",
   "execution_count": 12,
   "metadata": {
    "collapsed": false
   },
   "outputs": [],
   "source": [
    "a.login()"
   ]
  },
  {
   "cell_type": "code",
   "execution_count": 5,
   "metadata": {
    "collapsed": false
   },
   "outputs": [
    {
     "name": "stdout",
     "output_type": "stream",
     "text": [
      "Enter the name XYZ\n"
     ]
    }
   ],
   "source": [
    "a.search()"
   ]
  },
  {
   "cell_type": "code",
   "execution_count": 6,
   "metadata": {
    "collapsed": false
   },
   "outputs": [
    {
     "name": "stdout",
     "output_type": "stream",
     "text": [
      "Total number of images uploaded : 24\n",
      "Enter the no. of images you want to extract23\n"
     ]
    }
   ],
   "source": [
    "a.extract()\n"
   ]
  },
  {
   "cell_type": "code",
   "execution_count": null,
   "metadata": {
    "collapsed": false
   },
   "outputs": [
    {
     "name": "stdout",
     "output_type": "stream",
     "text": [
      "Enter the tagbollywwod\n"
     ]
    }
   ],
   "source": [
    "a.follow()"
   ]
  },
  {
   "cell_type": "code",
   "execution_count": 13,
   "metadata": {
    "collapsed": false,
    "scrolled": true
   },
   "outputs": [
    {
     "name": "stdout",
     "output_type": "stream",
     "text": [
      "Enter the tagdogs\n"
     ]
    },
    {
     "ename": "KeyboardInterrupt",
     "evalue": "",
     "output_type": "error",
     "traceback": [
      "\u001b[0;31m---------------------------------------------------------------------------\u001b[0m",
      "\u001b[0;31mKeyboardInterrupt\u001b[0m                         Traceback (most recent call last)",
      "\u001b[0;32m<ipython-input-13-1367dcf72066>\u001b[0m in \u001b[0;36m<module>\u001b[0;34m()\u001b[0m\n\u001b[0;32m----> 1\u001b[0;31m \u001b[0ma\u001b[0m\u001b[1;33m.\u001b[0m\u001b[0mcomment\u001b[0m\u001b[1;33m(\u001b[0m\u001b[1;33m)\u001b[0m\u001b[1;33m\u001b[0m\u001b[0m\n\u001b[0m",
      "\u001b[0;32m<ipython-input-10-05fef54f983d>\u001b[0m in \u001b[0;36mcomment\u001b[0;34m(self)\u001b[0m\n\u001b[1;32m    201\u001b[0m         \u001b[0mxp3\u001b[0m\u001b[1;33m=\u001b[0m\u001b[1;34m'//a[@class=\"HBoOv coreSpriteRightPaginationArrow\"]'\u001b[0m\u001b[1;33m\u001b[0m\u001b[0m\n\u001b[1;32m    202\u001b[0m         \u001b[0mmessage\u001b[0m\u001b[1;33m=\u001b[0m\u001b[1;34m'Hi'\u001b[0m\u001b[1;33m\u001b[0m\u001b[0m\n\u001b[0;32m--> 203\u001b[0;31m         \u001b[0melement1\u001b[0m\u001b[1;33m=\u001b[0m\u001b[0mWebDriverWait\u001b[0m\u001b[1;33m(\u001b[0m\u001b[0mdriver\u001b[0m\u001b[1;33m,\u001b[0m \u001b[1;36m6000\u001b[0m\u001b[1;33m)\u001b[0m\u001b[1;33m.\u001b[0m\u001b[0muntil\u001b[0m\u001b[1;33m(\u001b[0m\u001b[0mEC\u001b[0m\u001b[1;33m.\u001b[0m\u001b[0mpresence_of_element_located\u001b[0m\u001b[1;33m(\u001b[0m\u001b[1;33m(\u001b[0m\u001b[0mBy\u001b[0m\u001b[1;33m.\u001b[0m\u001b[0mXPATH\u001b[0m\u001b[1;33m,\u001b[0m \u001b[0mxp4\u001b[0m\u001b[1;33m)\u001b[0m\u001b[1;33m)\u001b[0m\u001b[1;33m)\u001b[0m\u001b[1;33m\u001b[0m\u001b[0m\n\u001b[0m\u001b[1;32m    204\u001b[0m         \u001b[1;31m##element1 = wait.until(EC.element_to_be_clickable(By.XPATH('//a[@class=\"HBoOv coreSpriteRightPaginationArrow\"]')))\u001b[0m\u001b[1;33m\u001b[0m\u001b[1;33m\u001b[0m\u001b[0m\n\u001b[1;32m    205\u001b[0m         \u001b[1;31m##element1.click();\u001b[0m\u001b[1;33m\u001b[0m\u001b[1;33m\u001b[0m\u001b[0m\n",
      "\u001b[0;32mC:\\Users\\OJASVA\\Anaconda3\\lib\\site-packages\\selenium\\webdriver\\support\\wait.py\u001b[0m in \u001b[0;36muntil\u001b[0;34m(self, method, message)\u001b[0m\n\u001b[1;32m     75\u001b[0m                 \u001b[0mscreen\u001b[0m \u001b[1;33m=\u001b[0m \u001b[0mgetattr\u001b[0m\u001b[1;33m(\u001b[0m\u001b[0mexc\u001b[0m\u001b[1;33m,\u001b[0m \u001b[1;34m'screen'\u001b[0m\u001b[1;33m,\u001b[0m \u001b[1;32mNone\u001b[0m\u001b[1;33m)\u001b[0m\u001b[1;33m\u001b[0m\u001b[0m\n\u001b[1;32m     76\u001b[0m                 \u001b[0mstacktrace\u001b[0m \u001b[1;33m=\u001b[0m \u001b[0mgetattr\u001b[0m\u001b[1;33m(\u001b[0m\u001b[0mexc\u001b[0m\u001b[1;33m,\u001b[0m \u001b[1;34m'stacktrace'\u001b[0m\u001b[1;33m,\u001b[0m \u001b[1;32mNone\u001b[0m\u001b[1;33m)\u001b[0m\u001b[1;33m\u001b[0m\u001b[0m\n\u001b[0;32m---> 77\u001b[0;31m             \u001b[0mtime\u001b[0m\u001b[1;33m.\u001b[0m\u001b[0msleep\u001b[0m\u001b[1;33m(\u001b[0m\u001b[0mself\u001b[0m\u001b[1;33m.\u001b[0m\u001b[0m_poll\u001b[0m\u001b[1;33m)\u001b[0m\u001b[1;33m\u001b[0m\u001b[0m\n\u001b[0m\u001b[1;32m     78\u001b[0m             \u001b[1;32mif\u001b[0m \u001b[0mtime\u001b[0m\u001b[1;33m.\u001b[0m\u001b[0mtime\u001b[0m\u001b[1;33m(\u001b[0m\u001b[1;33m)\u001b[0m \u001b[1;33m>\u001b[0m \u001b[0mend_time\u001b[0m\u001b[1;33m:\u001b[0m\u001b[1;33m\u001b[0m\u001b[0m\n\u001b[1;32m     79\u001b[0m                 \u001b[1;32mbreak\u001b[0m\u001b[1;33m\u001b[0m\u001b[0m\n",
      "\u001b[0;31mKeyboardInterrupt\u001b[0m: "
     ]
    }
   ],
   "source": [
    "a.comment()"
   ]
  },
  {
   "cell_type": "code",
   "execution_count": 2,
   "metadata": {
    "collapsed": true
   },
   "outputs": [],
   "source": [
    "driver=webdriver.Chrome(r'C:\\Users\\OJASVA\\Desktop\\chromedriver')\n",
    "driver.get(\"http://www.yahoo.com\")\n"
   ]
  }
 ],
 "metadata": {
  "kernelspec": {
   "display_name": "Python 3",
   "language": "python",
   "name": "python3"
  },
  "language_info": {
   "codemirror_mode": {
    "name": "ipython",
    "version": 3
   },
   "file_extension": ".py",
   "mimetype": "text/x-python",
   "name": "python",
   "nbconvert_exporter": "python",
   "pygments_lexer": "ipython3",
   "version": "3.6.0"
  }
 },
 "nbformat": 4,
 "nbformat_minor": 2
}
